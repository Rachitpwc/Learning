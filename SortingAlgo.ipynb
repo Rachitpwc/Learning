{
 "cells": [
  {
   "cell_type": "markdown",
   "metadata": {},
   "source": [
    "BUBBLE SORT"
   ]
  },
  {
   "cell_type": "code",
   "execution_count": 1,
   "metadata": {},
   "outputs": [
    {
     "name": "stdout",
     "output_type": "stream",
     "text": [
      "[1, 2, 3, 4, 5, 6, 7, 8, 9]\n"
     ]
    }
   ],
   "source": [
    "def bubbleSort(customList):\n",
    "    for i in range(len(customList)-1):\n",
    "        for j in range(len(customList)-i-1):\n",
    "            if customList[j] > customList[j+1]:\n",
    "                customList[j], customList[j+1] = customList[j+1], customList[j]\n",
    "    print(customList)\n",
    "\n",
    "# Time complexity is O(n^2) & Space complexity is O(1)\n",
    "\n",
    "cList = [2,1,7,6,5,3,4,9,8]\n",
    "bubbleSort(cList)"
   ]
  },
  {
   "cell_type": "markdown",
   "metadata": {},
   "source": [
    "SELECTION SORT"
   ]
  },
  {
   "cell_type": "code",
   "execution_count": 2,
   "metadata": {},
   "outputs": [
    {
     "name": "stdout",
     "output_type": "stream",
     "text": [
      "[1, 2, 3, 4, 5, 6, 7, 8, 9]\n"
     ]
    }
   ],
   "source": [
    "def selectionSort(customList):\n",
    "    for i in range(len(customList)):\n",
    "        min_index = i\n",
    "        for j in range(i+1, len(customList)):\n",
    "            if customList[min_index] > customList[j]:\n",
    "                min_index = j\n",
    "        customList[i], customList[min_index] = customList[min_index], customList[i]\n",
    "    print(customList)\n",
    "\n",
    "# Time complexity is O(n^2) & Space complexity is O(1)\n",
    "\n",
    "cList = [2,1,7,6,5,3,4,9,8]\n",
    "selectionSort(cList)"
   ]
  },
  {
   "cell_type": "markdown",
   "metadata": {},
   "source": [
    "INSERTION SORT"
   ]
  },
  {
   "cell_type": "code",
   "execution_count": 5,
   "metadata": {},
   "outputs": [
    {
     "name": "stdout",
     "output_type": "stream",
     "text": [
      "[1, 2, 3, 4, 5, 6, 7, 8, 9]\n"
     ]
    }
   ],
   "source": [
    "def insertSort(customList):\n",
    "    for i in range(1, len(customList)):\n",
    "        key = customList[i]\n",
    "        j = i - 1\n",
    "        while j>=0 and key < customList[j]:\n",
    "            customList[j+1] = customList[j]\n",
    "            j -= 1\n",
    "        customList[j+1] = key\n",
    "    return customList\n",
    "\n",
    "# Time complexity is O(n^2) & Space complexity is O(1)\n",
    "cList = [2,1,7,6,5,3,4,9,8]\n",
    "insertSort(cList)"
   ]
  },
  {
   "cell_type": "markdown",
   "metadata": {},
   "source": [
    "BUCKET SORT"
   ]
  },
  {
   "cell_type": "code",
   "execution_count": 9,
   "metadata": {},
   "outputs": [
    {
     "name": "stdout",
     "output_type": "stream",
     "text": [
      "[3, 9, 21, 25, 29, 37, 43, 49]\n"
     ]
    }
   ],
   "source": [
    "def insertSort(customList):\n",
    "    for i in range(1, len(customList)):\n",
    "        key = customList[i]\n",
    "        j = i - 1\n",
    "        while j >= 0 and key < customList[j]:\n",
    "            customList[j+1] = customList[j]\n",
    "            j -= 1\n",
    "        customList[j+1] = key\n",
    "    return customList  # Return the sorted list\n",
    "\n",
    "import math\n",
    "\n",
    "def bucketSort(customList):\n",
    "    numberofBuckets = round(math.sqrt(len(customList)))\n",
    "    maxValue = max(customList)\n",
    "    arr = []\n",
    "    for i in range(numberofBuckets):\n",
    "        arr.append([])\n",
    "\n",
    "    for j in customList:\n",
    "        index_b = math.ceil(j*numberofBuckets/maxValue)\n",
    "        arr[index_b-1].append(j)\n",
    "\n",
    "    for i in range(numberofBuckets):\n",
    "        arr[i] = insertSort(arr[i])  # Ensure this gets assigned to the bucket\n",
    "\n",
    "    k = 0\n",
    "    for i in range(numberofBuckets):\n",
    "        for j in range(len(arr[i])):\n",
    "            customList[k] = arr[i][j]\n",
    "            k += 1\n",
    "\n",
    "    return customList\n",
    "# Time complexity is O(n^2) & Space complexity is O(n)\n",
    "\n",
    "# Example usage:\n",
    "customList = [29, 25, 3, 49, 9, 37, 21, 43]\n",
    "sortedList = bucketSort(customList)\n",
    "print(sortedList)\n"
   ]
  },
  {
   "cell_type": "markdown",
   "metadata": {},
   "source": [
    "MERGE SORT"
   ]
  },
  {
   "cell_type": "code",
   "execution_count": 12,
   "metadata": {},
   "outputs": [
    {
     "name": "stdout",
     "output_type": "stream",
     "text": [
      "[1, 2, 3, 4, 5, 6, 7, 8, 9]\n",
      "[3, 9, 21, 25, 29, 37, 43, 49]\n"
     ]
    }
   ],
   "source": [
    "def insertSort(customList):\n",
    "    for i in range(1, len(customList)):\n",
    "        key = customList[i]\n",
    "        j = i - 1\n",
    "        while j >= 0 and key < customList[j]:\n",
    "            customList[j+1] = customList[j]\n",
    "            j -= 1\n",
    "        customList[j+1] = key\n",
    "    return customList  # Return the sorted list\n",
    "\n",
    "import math\n",
    "\n",
    "def bucketSort(customList):\n",
    "    numberofBuckets = round(math.sqrt(len(customList)))\n",
    "    maxValue = max(customList)\n",
    "    arr = []\n",
    "    for i in range(numberofBuckets):\n",
    "        arr.append([])\n",
    "\n",
    "    for j in customList:\n",
    "        index_b = math.ceil(j * numberofBuckets / maxValue)\n",
    "        arr[index_b - 1].append(j)\n",
    "\n",
    "    for i in range(numberofBuckets):\n",
    "        arr[i] = insertSort(arr[i])  # Ensure this gets assigned to the bucket\n",
    "\n",
    "    k = 0\n",
    "    for i in range(numberofBuckets):\n",
    "        for j in range(len(arr[i])):\n",
    "            customList[k] = arr[i][j]\n",
    "            k += 1\n",
    "\n",
    "    return customList\n",
    "\n",
    "def merge(customList, l, m, r):\n",
    "    n1 = m - l + 1\n",
    "    n2 = r - m\n",
    "\n",
    "    L = [0] * n1\n",
    "    R = [0] * n2\n",
    "\n",
    "    for i in range(0, n1):\n",
    "        L[i] = customList[l + i]\n",
    "\n",
    "    for j in range(0, n2):\n",
    "        R[j] = customList[m + 1 + j]\n",
    "\n",
    "    i = 0\n",
    "    j = 0\n",
    "    k = l\n",
    "    while i < n1 and j < n2:\n",
    "        if L[i] <= R[j]:\n",
    "            customList[k] = L[i]\n",
    "            i += 1\n",
    "        else:\n",
    "            customList[k] = R[j]\n",
    "            j += 1\n",
    "        k += 1  # Adjust the position of k to ensure it increments inside the loop\n",
    "\n",
    "    while i < n1:\n",
    "        customList[k] = L[i]\n",
    "        i += 1\n",
    "        k += 1\n",
    "\n",
    "    while j < n2:\n",
    "        customList[k] = R[j]\n",
    "        j += 1\n",
    "        k += 1\n",
    "\n",
    "def mergeSort(customList, l, r):\n",
    "    if l < r:\n",
    "        m = (l + (r - 1)) // 2\n",
    "        mergeSort(customList, l, m)\n",
    "        mergeSort(customList, m + 1, r)\n",
    "        merge(customList, l, m, r)\n",
    "    return customList\n",
    "\n",
    "\n",
    "# Time complexity is O(NlogN) & Space complexity is O(N)\n",
    "\n",
    "# Example usage:\n",
    "customList = [2, 1, 7, 6, 5, 3, 4, 9, 8]\n",
    "sortedList = mergeSort(customList, 0, len(customList) - 1)\n",
    "print(sortedList)\n",
    "\n",
    "customList2 = [29, 25, 3, 49, 9, 37, 21, 43]\n",
    "sortedBucketList = bucketSort(customList2)\n",
    "print(sortedBucketList)\n"
   ]
  },
  {
   "cell_type": "markdown",
   "metadata": {},
   "source": [
    "QUICK SORT"
   ]
  },
  {
   "cell_type": "code",
   "execution_count": null,
   "metadata": {},
   "outputs": [],
   "source": []
  }
 ],
 "metadata": {
  "kernelspec": {
   "display_name": "venv",
   "language": "python",
   "name": "python3"
  },
  "language_info": {
   "codemirror_mode": {
    "name": "ipython",
    "version": 3
   },
   "file_extension": ".py",
   "mimetype": "text/x-python",
   "name": "python",
   "nbconvert_exporter": "python",
   "pygments_lexer": "ipython3",
   "version": "3.11.0"
  }
 },
 "nbformat": 4,
 "nbformat_minor": 2
}
