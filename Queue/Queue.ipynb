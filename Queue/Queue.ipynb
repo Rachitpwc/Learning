{
 "cells": [
  {
   "cell_type": "markdown",
   "metadata": {},
   "source": [
    "QUEUE\n",
    "\n",
    "Data structure storing items in FIFO"
   ]
  },
  {
   "cell_type": "markdown",
   "metadata": {},
   "source": [
    "Operations\n",
    "- CreateQueue\n",
    "- Enqueue\n",
    "- Dequeue\n",
    "- Peek\n",
    "- isEmpty\n",
    "- isFull\n",
    "- deleteQueue"
   ]
  },
  {
   "cell_type": "code",
   "execution_count": 8,
   "metadata": {},
   "outputs": [
    {
     "name": "stdout",
     "output_type": "stream",
     "text": [
      "True\n",
      "10 20 30 40\n",
      "10\n",
      "20 30 40\n",
      "20\n"
     ]
    }
   ],
   "source": [
    "# Create using Python List without any size limits\n",
    "\n",
    "class Queue:\n",
    "    def __init__(self):\n",
    "        self.items = []\n",
    "\n",
    "    def __str__(self):\n",
    "        values = [str(x) for x in self.items]\n",
    "        return ' '.join(values)\n",
    "\n",
    "# Time & Space complexity for this operation is O(1) excluding for priniting one __str__.\n",
    "\n",
    "    def isEmpty(self):           # Check if queue is empty or not\n",
    "        if self.items==[]:\n",
    "            return True\n",
    "        else:\n",
    "            return False\n",
    "# Time & Space complexity for this operation is O(1)\n",
    "    def enqueue(self, value):     # Adding elements to the queue\n",
    "        self.items.append(value)\n",
    "        return \"the element added\"\n",
    "    \n",
    "# Time complexity is amortized constant O(1) in worst case O(n^2) & Space complexity is O(1)\n",
    "    def dequeue(self):\n",
    "        if self.isEmpty():\n",
    "            return \"empty queue\"\n",
    "        else:\n",
    "            return self.items.pop(0)  # Time complexity for this is O(n)\n",
    "# Time complexity is O(n) & Space complexity is O(1)\n",
    "\n",
    "    def peek(self):\n",
    "        if self.isEmpty():\n",
    "            return \"empty queue\"\n",
    "        else:\n",
    "            return self.items[0]\n",
    "# Time complexity is O(1) & Space complexity is O(1)\n",
    "\n",
    "    def delete(self):\n",
    "        self.items = None     \n",
    "# Time complexity is O(1) & Space complexity is O(1)  \n",
    "\n",
    "custom = Queue()\n",
    "print(custom.isEmpty())\n",
    "custom.enqueue(10)\n",
    "custom.enqueue(20)\n",
    "custom.enqueue(30)\n",
    "custom.enqueue(40)\n",
    "print(custom)\n",
    "print(custom.dequeue())\n",
    "print(custom)\n",
    "print(custom.peek())\n",
    "#print(custom.delete())"
   ]
  },
  {
   "cell_type": "markdown",
   "metadata": {},
   "source": [
    "QUEUE WITH FIXED CAPACITY(CIRCULAR QUEUE)"
   ]
  },
  {
   "cell_type": "code",
   "execution_count": 18,
   "metadata": {},
   "outputs": [
    {
     "name": "stdout",
     "output_type": "stream",
     "text": [
      "False\n",
      "True\n",
      "10 20 30\n",
      "10\n",
      "10 20 30\n",
      "10\n",
      "None 20 30\n"
     ]
    }
   ],
   "source": [
    "# CREATE WITH PYTHON LIST WITH SIZE\n",
    "class Queue:\n",
    "    def __init__(self, maxsize):\n",
    "        self.items = maxsize * [None]\n",
    "        self.maxsize = maxsize\n",
    "        self.start = -1\n",
    "        self.top = -1\n",
    "\n",
    "# Time complexity is O(1) & Space complexity is O(n) \n",
    "    def __str__(self):\n",
    "        values = [str(x) for x in self.items]\n",
    "        return ' '.join(values)\n",
    "    \n",
    "    def isFull(self):\n",
    "        if self.top + 1==self.start:\n",
    "            return True\n",
    "        elif self.start == 0 and self.top+1==self.maxsize:\n",
    "            return True\n",
    "        else:\n",
    "            return False\n",
    "# Time complexity is O(1) & Space complexity is O(1)\n",
    "  \n",
    "    def isEmpty(self):\n",
    "        if self.top==-1:\n",
    "            return True\n",
    "        else:\n",
    "            return False\n",
    "# Time complexity is O(1) & Space complexity is O(1)\n",
    "\n",
    "    def enqueue(self,value):\n",
    "        if self.isFull():\n",
    "            return \"queue is full\"\n",
    "        else:\n",
    "            if self.top+1==self.maxsize:\n",
    "                self.top = 0\n",
    "            else:\n",
    "                self.top += 1\n",
    "                if self.start==-1:\n",
    "                    self.start=0\n",
    "            self.items[self.top] = value\n",
    "            return \"the element is added at end\"\n",
    "# Time complexity is O(1) & Space complexity is O(1)\n",
    "\n",
    "    def dequeue(self):\n",
    "        if self.isEmpty():\n",
    "            return \"empty queue\"\n",
    "        else:\n",
    "            firstElement = self.items[self.start]\n",
    "            start = self.start\n",
    "            if self.start == self.top:\n",
    "                self.start = -1\n",
    "                self.top = -1\n",
    "            elif self.start+1==self.maxsize:\n",
    "                self.start = 0\n",
    "            else:\n",
    "                self.start += 1\n",
    "            self.items[start] = None\n",
    "            return firstElement\n",
    "# Time complexity is O(1) & Space complexity is O(1)\n",
    "\n",
    "    def peek(self):\n",
    "        if self.isEmpty():\n",
    "            return \"empty queue\"\n",
    "        else:\n",
    "            return self.items[self.start]     \n",
    "# Time complexity is O(1) & Space complexity is O(1)\n",
    "\n",
    "    def delete(self):\n",
    "        self.items = self.maxsize * [None]\n",
    "        self.top = -1\n",
    "        self.start = -1\n",
    "# Time complexity is O(1) & Space complexity is O(1)\n",
    "        \n",
    "custom = Queue(3)\n",
    "print(custom.isFull())\n",
    "print(custom.isEmpty())\n",
    "custom.enqueue(10)\n",
    "custom.enqueue(20)\n",
    "custom.enqueue(30)\n",
    "custom.enqueue(40)\n",
    "print(custom)\n",
    "print(custom.peek())\n",
    "print(custom)\n",
    "print(custom.dequeue())\n",
    "print(custom)\n"
   ]
  },
  {
   "cell_type": "markdown",
   "metadata": {},
   "source": [
    "QUEUE USING LINKED LIST"
   ]
  },
  {
   "cell_type": "code",
   "execution_count": 23,
   "metadata": {},
   "outputs": [
    {
     "name": "stdout",
     "output_type": "stream",
     "text": [
      "90 80 70\n",
      "90\n",
      "90 80 70\n"
     ]
    }
   ],
   "source": [
    "class Node:\n",
    "    def __init__(self, value):\n",
    "        self.value = value\n",
    "        self.next = None\n",
    "\n",
    "    def __str__(self):\n",
    "        return str(self.value)\n",
    "\n",
    "class LinkedList:\n",
    "    def __init__(self):\n",
    "        self.head = None\n",
    "        self.tail = None\n",
    "    \n",
    "    def __iter__(self):\n",
    "        curNode = self.head\n",
    "        while curNode:\n",
    "            yield curNode\n",
    "            curNode = curNode.next\n",
    "\n",
    "class Queue:\n",
    "    def __init__(self):\n",
    "        self.LinkedList = LinkedList()\n",
    "# Time complexity is O(1) & Space complexity is O(1)\n",
    "    \n",
    "    def __str__(self):\n",
    "        values = [str(x) for x in self.LinkedList]\n",
    "        return ' '.join(values)\n",
    "    \n",
    "    def enqueue(self, value):\n",
    "        new_node = Node(value)\n",
    "        if self.LinkedList.head==None:\n",
    "            self.LinkedList.head=new_node\n",
    "            self.LinkedList.tail=new_node\n",
    "        else:\n",
    "            self.LinkedList.tail.next = new_node\n",
    "            self.LinkedList.tail = new_node\n",
    "# Time complexity is O(1) & Space complexity is O(1)\n",
    "\n",
    "    def isEmpty(self):\n",
    "        if self.LinkedList.head==None:\n",
    "            return True\n",
    "        else:\n",
    "            return False\n",
    "# Time complexity is O(1) & Space complexity is O(1)\n",
    "\n",
    "    def dequeue(self):\n",
    "        if self.isEmpty():\n",
    "            return \"empty queue\"\n",
    "        else:\n",
    "            temp = self.LinkedList.head\n",
    "            if self.LinkedList.head==self.LinkedList.tail:\n",
    "                self.LinkedList.head=None\n",
    "                self.LinkedList.tail=None\n",
    "            else:\n",
    "                self.LinkedList.head = self.LinkedList.head.next\n",
    "            return temp\n",
    "# Time complexity is O(1) & Space complexity is O(1)\n",
    "\n",
    "    def peek(self):\n",
    "        if self.isEmpty():\n",
    "            return \"empty queue\"\n",
    "        else:\n",
    "            return self.LinkedList.head\n",
    "\n",
    "# Time complexity is O(1) & Space complexity is O(1)\n",
    "\n",
    "    def delete(self):\n",
    "        self.LinkedList.head = None\n",
    "        self.LinkedList.tail = None\n",
    "# Time complexity is O(1) & Space complexity is O(1)\n",
    "\n",
    "custom = Queue()\n",
    "custom.enqueue(90)\n",
    "custom.enqueue(80)\n",
    "custom.enqueue(70)\n",
    "print(custom)\n",
    "print(custom.peek())\n",
    "print(custom)"
   ]
  },
  {
   "cell_type": "markdown",
   "metadata": {},
   "source": [
    "PYTHON QUEUE MODELS\n",
    "\n",
    "- COLLECTIONS MODULE"
   ]
  },
  {
   "cell_type": "code",
   "execution_count": 30,
   "metadata": {},
   "outputs": [
    {
     "name": "stdout",
     "output_type": "stream",
     "text": [
      "deque([], maxlen=3)\n",
      "deque([1, 2, 3], maxlen=3)\n",
      "deque([2, 3, 4], maxlen=3)\n",
      "2\n",
      "deque([3, 4], maxlen=3)\n",
      "None\n",
      "deque([], maxlen=3)\n"
     ]
    }
   ],
   "source": [
    "# Creating Queue using deque() class from collections module\n",
    "from collections import deque\n",
    "custom = deque(maxlen=3)\n",
    "print(custom)\n",
    "\n",
    "custom.append(1)\n",
    "custom.append(2)\n",
    "custom.append(3)\n",
    "print(custom)\n",
    "custom.append(4)      # If more elements are given than the maximum length, the first element is overridden\n",
    "print(custom)\n",
    "\n",
    "print(custom.popleft())   # to remove the first element from left\n",
    "print(custom)\n",
    "\n",
    "print(custom.clear())   # delete all methods\n",
    "print(custom)"
   ]
  },
  {
   "cell_type": "markdown",
   "metadata": {},
   "source": [
    "- QUEUE MODULE"
   ]
  },
  {
   "cell_type": "code",
   "execution_count": 36,
   "metadata": {},
   "outputs": [
    {
     "name": "stdout",
     "output_type": "stream",
     "text": [
      "True\n",
      "True\n",
      "3\n",
      "10\n"
     ]
    }
   ],
   "source": [
    "import queue as q\n",
    "\n",
    "custom = q.Queue(maxsize=3)\n",
    "\n",
    "print(custom.empty())\n",
    "\n",
    "custom.put(10)\n",
    "custom.put(20)\n",
    "custom.put(30)\n",
    "print(custom.full())\n",
    "print(custom.qsize())\n",
    "print(custom.get())"
   ]
  },
  {
   "cell_type": "markdown",
   "metadata": {},
   "source": [
    "- MULTIPROCESSING MODULE"
   ]
  },
  {
   "cell_type": "code",
   "execution_count": 37,
   "metadata": {},
   "outputs": [
    {
     "name": "stdout",
     "output_type": "stream",
     "text": [
      "10\n"
     ]
    }
   ],
   "source": [
    "from multiprocessing import Queue\n",
    "custom = Queue(maxsize=3)\n",
    "\n",
    "custom.put(10)\n",
    "custom.put(20)\n",
    "print(custom.get())"
   ]
  },
  {
   "cell_type": "code",
   "execution_count": null,
   "metadata": {},
   "outputs": [],
   "source": []
  }
 ],
 "metadata": {
  "kernelspec": {
   "display_name": "venv",
   "language": "python",
   "name": "python3"
  },
  "language_info": {
   "codemirror_mode": {
    "name": "ipython",
    "version": 3
   },
   "file_extension": ".py",
   "mimetype": "text/x-python",
   "name": "python",
   "nbconvert_exporter": "python",
   "pygments_lexer": "ipython3",
   "version": "3.11.0"
  }
 },
 "nbformat": 4,
 "nbformat_minor": 2
}
