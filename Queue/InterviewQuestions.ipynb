{
 "cells": [
  {
   "cell_type": "markdown",
   "metadata": {},
   "source": [
    "INTERVIEW QUESTIONS ON STACK & QUEUES"
   ]
  },
  {
   "cell_type": "markdown",
   "metadata": {},
   "source": [
    "Describe how you could use a single python list to implement three stacks."
   ]
  },
  {
   "cell_type": "code",
   "execution_count": 4,
   "metadata": {},
   "outputs": [
    {
     "name": "stdout",
     "output_type": "stream",
     "text": [
      "False\n",
      "True\n",
      "<__main__.MultiStack object at 0x0000018DDA2B10D0>\n",
      "empty stack\n"
     ]
    }
   ],
   "source": [
    "class MultiStack:\n",
    "    def __init__(self, stacksize):\n",
    "        self.numberstacks = 3\n",
    "        self.cusList = [0]*(stacksize * self.numberstacks)\n",
    "        self.sizes = [0] * self.numberstacks\n",
    "        self.stacksize = stacksize\n",
    "    \n",
    "    def isFull(self, stacknum):\n",
    "        if self.sizes[stacknum]==self.stacksize:\n",
    "            return True\n",
    "        else:\n",
    "            return False\n",
    "    \n",
    "    def isEmpty(self, stacknum):\n",
    "        if self.sizes[stacknum]==0:\n",
    "            return True\n",
    "        else:\n",
    "            return False\n",
    "    \n",
    "    def TopIndex(self, stacknum):\n",
    "        offset = stacknum * self.stacksize\n",
    "        return offset + self.sizes[stacknum]-1\n",
    "    \n",
    "    def push(self, item, stacknum):\n",
    "        if self.isFull(stacknum):\n",
    "            return \"stack is full\"\n",
    "        else:\n",
    "            self.sizes[stacknum] += 1\n",
    "            self.cusList[self.TopIndex(stacknum)] = item\n",
    "    \n",
    "    def pop(self, stacknum):\n",
    "        if self.isEmpty():\n",
    "            return \"empty stack\"\n",
    "        else:\n",
    "            value = self.cusList[self.TopIndex(stacknum)]\n",
    "            self.cusList[self.TopIndex(stacknum)] = 0\n",
    "            self.sizes[stacknum] -= 1\n",
    "            return value\n",
    "    \n",
    "    def peek(self, stacknum):\n",
    "        if self.isEmpty(stacknum):\n",
    "            return \"empty stack\"\n",
    "        else:\n",
    "            value = self.cusList[self.TopIndex(stacknum)]\n",
    "            return value\n",
    "\n",
    "custom = MultiStack(6)\n",
    "print(custom.isFull(0))\n",
    "print(custom.isEmpty(1))\n",
    "custom.push(1,0)\n",
    "custom.push(2,0)\n",
    "custom.push(3,2)\n",
    "print(custom)\n",
    "print(custom.peek(1))"
   ]
  },
  {
   "cell_type": "markdown",
   "metadata": {},
   "source": []
  }
 ],
 "metadata": {
  "kernelspec": {
   "display_name": "venv",
   "language": "python",
   "name": "python3"
  },
  "language_info": {
   "codemirror_mode": {
    "name": "ipython",
    "version": 3
   },
   "file_extension": ".py",
   "mimetype": "text/x-python",
   "name": "python",
   "nbconvert_exporter": "python",
   "pygments_lexer": "ipython3",
   "version": "3.11.0"
  }
 },
 "nbformat": 4,
 "nbformat_minor": 2
}
