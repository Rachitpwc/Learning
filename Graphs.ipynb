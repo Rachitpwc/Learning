{
 "cells": [
  {
   "cell_type": "code",
   "execution_count": 3,
   "metadata": {},
   "outputs": [
    {
     "name": "stdout",
     "output_type": "stream",
     "text": [
      "['b', 'c', 'f', 'd']\n"
     ]
    }
   ],
   "source": [
    "# Creating Graph Using Python List\n",
    "class Graph:\n",
    "    def __init__(self, gdict=None):\n",
    "        if gdict is None:\n",
    "            gdict={}\n",
    "        self.gdict = gdict\n",
    "    \n",
    "    def addEdge(self, vertex, edge):\n",
    "        self.gdict[vertex].append(edge)\n",
    "\n",
    "customDict = { \"a\":[\"b\",\"c\"],\n",
    "                \"b\":[\"a\",\"d\",\"e\"],\n",
    "                \"c\":[\"a\",\"e\"],\n",
    "                \"d\":[\"b\",\"e\",\"f\"],\n",
    "                \"e\":[\"b\",\"c\",\"f\"],\n",
    "                \"f\":[\"d\",\"e\"]\n",
    "            }\n",
    "\n",
    "graph = Graph(customDict)\n",
    "graph.addEdge(\"e\",\"d\")\n",
    "print(graph.gdict[\"e\"])"
   ]
  },
  {
   "cell_type": "markdown",
   "metadata": {},
   "source": [
    "Using Adjacency List"
   ]
  },
  {
   "cell_type": "code",
   "execution_count": 2,
   "metadata": {},
   "outputs": [
    {
     "name": "stdout",
     "output_type": "stream",
     "text": [
      "A : ['B', 'C']\n",
      "B : ['A', 'C', 'E']\n",
      "C : ['A', 'B', 'D']\n",
      "D : ['E', 'C']\n",
      "E : ['B', 'D']\n",
      "A\n",
      "B\n",
      "C\n",
      "E\n",
      "D\n",
      "AFTR REMOVING\n",
      "A : ['B', 'C']\n",
      "B : ['A', 'C', 'E']\n",
      "C : ['A', 'B', 'D']\n",
      "D : ['E', 'C']\n",
      "E : ['B', 'D']\n",
      "A\n",
      "C\n",
      "D\n",
      "E\n",
      "B\n"
     ]
    }
   ],
   "source": [
    "class Graphs:\n",
    "    def __init__(self):\n",
    "        self.adjacency_list = {}\n",
    "    \n",
    "    def add_vertex(self, vertex):\n",
    "        if vertex not in self.adjacency_list.keys():\n",
    "            self.adjacency_list[vertex] = []\n",
    "            return True\n",
    "        return False\n",
    "    \n",
    "    def print_graph(self):\n",
    "        for vertex in self.adjacency_list:\n",
    "            print(vertex,\":\",self.adjacency_list[vertex])\n",
    "    \n",
    "    def add_egde(self, vertex1, vertex2):\n",
    "        if vertex1 in self.adjacency_list.keys() and vertex2 in self.adjacency_list.keys():\n",
    "            self.adjacency_list[vertex1].append(vertex2)\n",
    "            self.adjacency_list[vertex2].append(vertex1)\n",
    "            return True\n",
    "        return False\n",
    "\n",
    "    def removeEdge(self, vertex1, vertex2):\n",
    "        if vertex1 in self.adjacency_list.keys() and vertex2 in self.adjacency_list.keys():\n",
    "            try:\n",
    "                self.adjacency_list[vertex1].remove(vertex2)\n",
    "                self.adjacency_list[vertex2].remove(vertex1)\n",
    "            except ValueError:\n",
    "                pass\n",
    "            return True\n",
    "        return False\n",
    "    \n",
    "    def removeVertex(self, vertex):\n",
    "        if vertex in self.adjacency_list.keys():\n",
    "            for other_vertex in self.adjacency_list[vertex]:\n",
    "                self.adjacency_list[other_vertex].remove(vertex)\n",
    "            del self.adjacency_list[vertex]\n",
    "            return True\n",
    "        return False\n",
    "    \n",
    "    def bfs(self, vertex):\n",
    "        visited = set()\n",
    "        visited.add(vertex)\n",
    "        queue = [vertex]\n",
    "        while queue:\n",
    "            current_vertex = queue.pop(0)\n",
    "            print(current_vertex)\n",
    "            for adjacent_vertex in self.adjacency_list[current_vertex]:\n",
    "                if adjacent_vertex not in visited:\n",
    "                    visited.add(adjacent_vertex)\n",
    "                    queue.append(adjacent_vertex)\n",
    "\n",
    "    def dfs(self, vertex):\n",
    "        visited = set()\n",
    "        stack = [vertex]\n",
    "        while stack:\n",
    "            current_vertex = stack.pop()\n",
    "            if current_vertex not in visited:\n",
    "                print(current_vertex)\n",
    "                visited.add(current_vertex)\n",
    "            for adjacent_vertex in self.adjacency_list[current_vertex]:\n",
    "                if adjacent_vertex not in visited:\n",
    "                    stack.append(adjacent_vertex)\n",
    "\n",
    "\n",
    "\n",
    "\n",
    "customGraph = Graphs()\n",
    "customGraph.add_vertex(\"A\")\n",
    "customGraph.add_vertex(\"B\")\n",
    "customGraph.add_vertex(\"C\")\n",
    "customGraph.add_vertex(\"D\")\n",
    "customGraph.add_vertex(\"E\")\n",
    "customGraph.add_egde(\"A\",\"B\")\n",
    "customGraph.add_egde(\"A\",\"C\")\n",
    "customGraph.add_egde(\"B\",\"C\")\n",
    "customGraph.add_egde(\"B\",\"E\")\n",
    "customGraph.add_egde(\"D\",\"E\")\n",
    "customGraph.add_egde(\"C\",\"D\")\n",
    "customGraph.print_graph()\n",
    "customGraph.bfs(\"A\")\n",
    "print(\"AFTR REMOVING\")\n",
    "customGraph.print_graph()\n",
    "customGraph.dfs(\"A\")"
   ]
  },
  {
   "cell_type": "code",
   "execution_count": null,
   "metadata": {},
   "outputs": [],
   "source": []
  }
 ],
 "metadata": {
  "kernelspec": {
   "display_name": "venv",
   "language": "python",
   "name": "python3"
  },
  "language_info": {
   "codemirror_mode": {
    "name": "ipython",
    "version": 3
   },
   "file_extension": ".py",
   "mimetype": "text/x-python",
   "name": "python",
   "nbconvert_exporter": "python",
   "pygments_lexer": "ipython3",
   "version": "3.11.0"
  }
 },
 "nbformat": 4,
 "nbformat_minor": 2
}
