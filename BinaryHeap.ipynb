{
 "cells": [
  {
   "cell_type": "code",
   "execution_count": 6,
   "metadata": {},
   "outputs": [
    {
     "name": "stdout",
     "output_type": "stream",
     "text": [
      "5\n",
      "4\n",
      "2\n",
      "1\n",
      "3\n"
     ]
    }
   ],
   "source": [
    "class Heap:\n",
    "    def __init__(self, size):                      # Creation of Binary Heap\n",
    "        self.customList = (size+1) * [None]\n",
    "        self.heapSize = 0\n",
    "        self.maxSize = size + 1\n",
    "    \n",
    "    def peekOfHeap(self):                          # Peek Method\n",
    "        if self.heapSize == 0:\n",
    "            return None\n",
    "        else:\n",
    "            return self.customList[1]\n",
    "\n",
    "    def sizeOfHeap(self):\n",
    "        return self.heapSize\n",
    "\n",
    "    def levelOrderTraversal(self):\n",
    "        if not self:\n",
    "            return\n",
    "        else:\n",
    "            for i in range(1, self.heapSize+1):\n",
    "                print(self.customList[i])\n",
    "    \n",
    "    def heapifyInsert(self, index, heapType):\n",
    "        parentIndex = int(index/2)\n",
    "        if index <= 1:\n",
    "            return\n",
    "        if heapType == \"Min\":\n",
    "            if self.customList[index] < self.customList[parentIndex]:\n",
    "                temp = self.customList[index]\n",
    "                self.customList[index] = self.customList[parentIndex]\n",
    "                self.customList[parentIndex] = temp\n",
    "            self.heapifyInsert(parentIndex, heapType)\n",
    "        elif heapType == \"Max\":\n",
    "            if self.customList[index] > self.customList[parentIndex]:\n",
    "                temp = self.customList[index]\n",
    "                self.customList[index] = self.customList[parentIndex]\n",
    "                self.customList[parentIndex] = temp\n",
    "            self.heapifyInsert(parentIndex, heapType)\n",
    "    \n",
    "    def insertNode(self, nodeValue, heapType):\n",
    "        if self.heapSize + 1 == self.maxSize:\n",
    "            return \"heap is full\"\n",
    "        self.customList[self.heapSize + 1] = nodeValue\n",
    "        self.heapSize += 1\n",
    "        self.heapifyInsert(self.heapSize, heapType)\n",
    "        return \"value inserted\"\n",
    "\n",
    "newBinary = Heap(5)\n",
    "newBinary.insertNode(4, \"Max\")\n",
    "newBinary.insertNode(5, \"Max\")\n",
    "newBinary.insertNode(2, \"Max\")\n",
    "newBinary.insertNode(1, \"Max\")\n",
    "newBinary.insertNode(3, \"Max\")\n",
    "newBinary.levelOrderTraversal()\n"
   ]
  },
  {
   "cell_type": "code",
   "execution_count": null,
   "metadata": {},
   "outputs": [],
   "source": []
  }
 ],
 "metadata": {
  "kernelspec": {
   "display_name": "venv",
   "language": "python",
   "name": "python3"
  },
  "language_info": {
   "codemirror_mode": {
    "name": "ipython",
    "version": 3
   },
   "file_extension": ".py",
   "mimetype": "text/x-python",
   "name": "python",
   "nbconvert_exporter": "python",
   "pygments_lexer": "ipython3",
   "version": "3.11.0"
  }
 },
 "nbformat": 4,
 "nbformat_minor": 2
}
