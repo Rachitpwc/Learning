{
 "cells": [
  {
   "cell_type": "markdown",
   "metadata": {},
   "source": [
    "Question 1\n",
    "\n",
    "How to find the sum of digits of a positive integer number using recursion"
   ]
  },
  {
   "cell_type": "code",
   "execution_count": 10,
   "metadata": {},
   "outputs": [
    {
     "name": "stdout",
     "output_type": "stream",
     "text": [
      "14\n"
     ]
    }
   ],
   "source": [
    "def summ(n):\n",
    "    assert n>=0 and int(n)==n, 'this is invalid'\n",
    "    if n==0:\n",
    "        return 0\n",
    "    else:\n",
    "        return int(n%10) + summ(int(n/10))\n",
    "\n",
    "print(summ(4415)) "
   ]
  },
  {
   "cell_type": "markdown",
   "metadata": {},
   "source": [
    "Question 2\n",
    "\n",
    "How to calculate power of a number using recursion"
   ]
  },
  {
   "cell_type": "code",
   "execution_count": 19,
   "metadata": {},
   "outputs": [
    {
     "name": "stdout",
     "output_type": "stream",
     "text": [
      "32\n"
     ]
    }
   ],
   "source": [
    "def power(num, exp):\n",
    "    assert int(exp)==exp, 'this is not exponent'\n",
    "    if exp == 0:\n",
    "        return 1\n",
    "    return num * power(num, exp-1)\n",
    "    \n",
    "print(power(2, 5))"
   ]
  },
  {
   "cell_type": "markdown",
   "metadata": {},
   "source": [
    "Question 3\n",
    "\n",
    "How to find Greatest Common Divisor of two numbers using recursion - like gcd(8,12) = 4"
   ]
  },
  {
   "cell_type": "code",
   "execution_count": 25,
   "metadata": {},
   "outputs": [
    {
     "name": "stdout",
     "output_type": "stream",
     "text": [
      "6\n",
      "30\n"
     ]
    }
   ],
   "source": [
    "def gcd(a,b):\n",
    "    assert int(a)==a and int(b)==b, 'the number is not integer'\n",
    "    if a < 0:\n",
    "        a = -1 * a\n",
    "    if b < 0:\n",
    "        b = -1 * b\n",
    "    if b == 0:\n",
    "        return a\n",
    "    else:\n",
    "        return gcd(b, a%b)\n",
    "\n",
    "print(gcd(48,18))\n",
    "print(gcd(-90,-30))"
   ]
  },
  {
   "cell_type": "markdown",
   "metadata": {},
   "source": [
    "Question 4\n",
    "\n",
    "How to convert a number from Decimal to Binary using recursion."
   ]
  },
  {
   "cell_type": "code",
   "execution_count": 35,
   "metadata": {},
   "outputs": [
    {
     "data": {
      "text/plain": [
       "10001100"
      ]
     },
     "execution_count": 35,
     "metadata": {},
     "output_type": "execute_result"
    }
   ],
   "source": [
    "def decimal(n):\n",
    "    assert int(n)==n and n>=0, 'this is not integer'\n",
    "    if n == 0:\n",
    "        return 0\n",
    "    else:\n",
    "        return n%2 + 10 * decimal(int(n/2))\n",
    "\n",
    "decimal(140)"
   ]
  },
  {
   "cell_type": "code",
   "execution_count": null,
   "metadata": {},
   "outputs": [],
   "source": []
  }
 ],
 "metadata": {
  "kernelspec": {
   "display_name": "venv",
   "language": "python",
   "name": "python3"
  },
  "language_info": {
   "codemirror_mode": {
    "name": "ipython",
    "version": 3
   },
   "file_extension": ".py",
   "mimetype": "text/x-python",
   "name": "python",
   "nbconvert_exporter": "python",
   "pygments_lexer": "ipython3",
   "version": "3.11.0"
  }
 },
 "nbformat": 4,
 "nbformat_minor": 2
}
