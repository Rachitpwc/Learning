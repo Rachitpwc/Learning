{
 "cells": [
  {
   "cell_type": "code",
   "execution_count": 1,
   "metadata": {},
   "outputs": [
    {
     "ename": "NameError",
     "evalue": "name 'knapsack' is not defined",
     "output_type": "error",
     "traceback": [
      "\u001b[1;31m---------------------------------------------------------------------------\u001b[0m",
      "\u001b[1;31mNameError\u001b[0m                                 Traceback (most recent call last)",
      "Cell \u001b[1;32mIn[1], line 30\u001b[0m\n\u001b[0;32m     27\u001b[0m item3 \u001b[38;5;241m=\u001b[39m Item(\u001b[38;5;241m10\u001b[39m,\u001b[38;5;241m60\u001b[39m)\n\u001b[0;32m     28\u001b[0m cList \u001b[38;5;241m=\u001b[39m [item1,item2,item3]\n\u001b[1;32m---> 30\u001b[0m \u001b[43mknapsack\u001b[49m(cList, \u001b[38;5;241m50\u001b[39m)\n",
      "\u001b[1;31mNameError\u001b[0m: name 'knapsack' is not defined"
     ]
    }
   ],
   "source": [
    "class Item:\n",
    "    def __init__(self, weight, value):\n",
    "        self.weight = weight\n",
    "        self.value = value\n",
    "        self.ratio = value/weight\n",
    "    \n",
    "    def knapsack(items, capacity):\n",
    "        items.sort(key=lambda x: x.ratio, reverse = True)\n",
    "        usedCapacity = 0\n",
    "        totalValue = 0\n",
    "        for i in items:\n",
    "            if usedCapacity + i.weight <= capacity:\n",
    "                usedCapacity += i.weight\n",
    "                totalValue += i.value\n",
    "            else:\n",
    "                unused_weight = capacity - usedCapacity\n",
    "                value = i.ratio * unused_weight\n",
    "                usedCapacity += unused_weight\n",
    "                totalValue += value\n",
    "            \n",
    "            if usedCapacity == capacity:\n",
    "                break\n",
    "        print(\"total value obtaim  \" + str(totalValue))\n",
    "\n",
    "item1 = Item(20,100)\n",
    "item2 = Item(30,120)\n",
    "item3 = Item(10,60)\n",
    "cList = [item1,item2,item3]\n",
    "\n",
    "knapsack(cList, 50)"
   ]
  },
  {
   "cell_type": "code",
   "execution_count": null,
   "metadata": {},
   "outputs": [],
   "source": []
  }
 ],
 "metadata": {
  "kernelspec": {
   "display_name": "venv",
   "language": "python",
   "name": "python3"
  },
  "language_info": {
   "codemirror_mode": {
    "name": "ipython",
    "version": 3
   },
   "file_extension": ".py",
   "mimetype": "text/x-python",
   "name": "python",
   "nbconvert_exporter": "python",
   "pygments_lexer": "ipython3",
   "version": "3.11.0"
  }
 },
 "nbformat": 4,
 "nbformat_minor": 2
}
