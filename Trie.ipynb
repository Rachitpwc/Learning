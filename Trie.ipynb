{
 "cells": [
  {
   "cell_type": "code",
   "execution_count": 7,
   "metadata": {},
   "outputs": [
    {
     "name": "stdout",
     "output_type": "stream",
     "text": [
      "successfully inserted\n",
      "successfully inserted\n"
     ]
    },
    {
     "ename": "AttributeError",
     "evalue": "'Trie' object has no attribute 'children'",
     "output_type": "error",
     "traceback": [
      "\u001b[1;31m---------------------------------------------------------------------------\u001b[0m",
      "\u001b[1;31mAttributeError\u001b[0m                            Traceback (most recent call last)",
      "Cell \u001b[1;32mIn[7], line 64\u001b[0m\n\u001b[0;32m     62\u001b[0m newTrie\u001b[38;5;241m.\u001b[39minsertString(\u001b[38;5;124m\"\u001b[39m\u001b[38;5;124mAPP\u001b[39m\u001b[38;5;124m\"\u001b[39m)\n\u001b[0;32m     63\u001b[0m newTrie\u001b[38;5;241m.\u001b[39minsertString(\u001b[38;5;124m\"\u001b[39m\u001b[38;5;124mAPPL\u001b[39m\u001b[38;5;124m\"\u001b[39m)\n\u001b[1;32m---> 64\u001b[0m \u001b[43mnewTrie\u001b[49m\u001b[38;5;241;43m.\u001b[39;49m\u001b[43mdeleteString\u001b[49m\u001b[43m(\u001b[49m\u001b[38;5;124;43m\"\u001b[39;49m\u001b[38;5;124;43mAPP\u001b[39;49m\u001b[38;5;124;43m\"\u001b[39;49m\u001b[43m,\u001b[49m\u001b[43m \u001b[49m\u001b[38;5;241;43m0\u001b[39;49m\u001b[43m)\u001b[49m\n\u001b[0;32m     65\u001b[0m newTrie\u001b[38;5;241m.\u001b[39msearchString(\u001b[38;5;124m\"\u001b[39m\u001b[38;5;124mAPP\u001b[39m\u001b[38;5;124m\"\u001b[39m)\n",
      "Cell \u001b[1;32mIn[7], line 37\u001b[0m, in \u001b[0;36mTrie.deleteString\u001b[1;34m(self, word, index)\u001b[0m\n\u001b[0;32m     35\u001b[0m \u001b[38;5;28;01mdef\u001b[39;00m \u001b[38;5;21mdeleteString\u001b[39m(\u001b[38;5;28mself\u001b[39m, word, index):\n\u001b[0;32m     36\u001b[0m     ch \u001b[38;5;241m=\u001b[39m word[index]\n\u001b[1;32m---> 37\u001b[0m     current \u001b[38;5;241m=\u001b[39m \u001b[38;5;28;43mself\u001b[39;49m\u001b[38;5;241;43m.\u001b[39;49m\u001b[43mchildren\u001b[49m\u001b[38;5;241m.\u001b[39mget(ch)\n\u001b[0;32m     38\u001b[0m     canThisNodeBeDeleted \u001b[38;5;241m=\u001b[39m \u001b[38;5;28;01mFalse\u001b[39;00m\n\u001b[0;32m     40\u001b[0m     \u001b[38;5;28;01mif\u001b[39;00m \u001b[38;5;28mlen\u001b[39m(current\u001b[38;5;241m.\u001b[39mchildren) \u001b[38;5;241m>\u001b[39m \u001b[38;5;241m1\u001b[39m:\n",
      "\u001b[1;31mAttributeError\u001b[0m: 'Trie' object has no attribute 'children'"
     ]
    }
   ],
   "source": [
    "class TrieNode:                      # Creating a Trie\n",
    "    def __init__(self):\n",
    "        self.children = {}\n",
    "        self.endOfString = False\n",
    "\n",
    "class Trie:\n",
    "    def __init__(self):\n",
    "        self.root = TrieNode()\n",
    "    \n",
    "    def insertString(self, word):     # Insert Method - Time & Space complexity for this is O(n).\n",
    "        current = self.root\n",
    "        for i in word:\n",
    "            ch = i\n",
    "            node = current.children.get(ch)\n",
    "            if node == None:\n",
    "                node = TrieNode()\n",
    "                current.children.update({ch:node})\n",
    "            current = node\n",
    "        current.endOfString = True\n",
    "        print(\"successfully inserted\")\n",
    "    \n",
    "    def searchString(self, word):        # Insert Method - Time complexity is O(n) & Space complexity is O(1).\n",
    "        currentNode = self.root\n",
    "        for i in word:\n",
    "            node = currentNode.children.get(i)\n",
    "            if node == None:\n",
    "                return False\n",
    "            currentNode = node\n",
    "\n",
    "        if currentNode.endOfString == True:\n",
    "            return True\n",
    "        else:\n",
    "            return False\n",
    "\n",
    "    def deleteString(self, word, index):\n",
    "        ch = word[index]\n",
    "        current = self.children.get(ch)\n",
    "        canThisNodeBeDeleted = False\n",
    "\n",
    "        if len(current.children) > 1:\n",
    "            deleteString(current, word, index+1)\n",
    "            return False\n",
    "        if index == len(word) - 1:\n",
    "            if len(current.children) >= 1:\n",
    "                current.endOfString = False\n",
    "            else:\n",
    "                self.children.pop(ch)\n",
    "                return True\n",
    "\n",
    "        if current.endOfString == True:\n",
    "            deleteString(current, word, index+1)\n",
    "            return False\n",
    "        \n",
    "        canThisNodeBeDeleted = deleteString(current, word, index+1)\n",
    "        if canThisNodeBeDeleted == True:\n",
    "            self.children.pop(ch)\n",
    "            return True\n",
    "        else:\n",
    "            return False\n",
    "\n",
    "newTrie = Trie()\n",
    "newTrie.insertString(\"APP\")\n",
    "newTrie.insertString(\"APPL\")\n",
    "newTrie.deleteString(\"APP\", 0)\n",
    "newTrie.searchString(\"APP\")\n"
   ]
  },
  {
   "cell_type": "code",
   "execution_count": null,
   "metadata": {},
   "outputs": [],
   "source": []
  }
 ],
 "metadata": {
  "kernelspec": {
   "display_name": "venv",
   "language": "python",
   "name": "python3"
  },
  "language_info": {
   "codemirror_mode": {
    "name": "ipython",
    "version": 3
   },
   "file_extension": ".py",
   "mimetype": "text/x-python",
   "name": "python",
   "nbconvert_exporter": "python",
   "pygments_lexer": "ipython3",
   "version": "3.11.0"
  }
 },
 "nbformat": 4,
 "nbformat_minor": 2
}
