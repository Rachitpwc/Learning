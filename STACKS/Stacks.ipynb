{
 "cells": [
  {
   "cell_type": "markdown",
   "metadata": {},
   "source": [
    "STACKS\n",
    "\n",
    "Data structure that stores items in a Last-In/First-Out manner."
   ]
  },
  {
   "cell_type": "markdown",
   "metadata": {},
   "source": [
    "Stack Operations\n",
    " - Create stack\n",
    " - Push\n",
    " - Pop\n",
    " Peek\n",
    " -isEmpty\n",
    " -isFull\n",
    " -deleteStack"
   ]
  },
  {
   "cell_type": "markdown",
   "metadata": {},
   "source": [
    "CREATION\n",
    "\n",
    "Using List - Easy to Implement but speed is reduced when it grows\n",
    "\n",
    "Using Linked List - Fast performance but implementation is not easy\n",
    "\n"
   ]
  },
  {
   "cell_type": "code",
   "execution_count": 1,
   "metadata": {},
   "outputs": [],
   "source": [
    "# Empty stack without any size limit\n",
    "class Stack:\n",
    "    def __init__(self):\n",
    "        self.list = []\n",
    "    \n",
    "    def __str__(self):\n",
    "        values = [str(x) for x in reversed(self.list)]   #List Comprehension\n",
    "        return '\\n'.join(values)\n",
    "\n",
    "# Time & Space Complexity is O(1)"
   ]
  },
  {
   "cell_type": "markdown",
   "metadata": {},
   "source": [
    "OPERATIONS ON STACK"
   ]
  },
  {
   "cell_type": "code",
   "execution_count": 2,
   "metadata": {},
   "outputs": [
    {
     "name": "stdout",
     "output_type": "stream",
     "text": [
      "True\n"
     ]
    }
   ],
   "source": [
    "# 1. isEmpty() Method\n",
    "class Stack:\n",
    "    def __init__(self):\n",
    "        self.list = []\n",
    "    \n",
    "    def __str__(self):\n",
    "        values = [str(x) for x in reversed(self.list)]   #List Comprehension\n",
    "        return '\\n'.join(values)\n",
    "    \n",
    "    def isEmpty(self):\n",
    "        if self.list == []:\n",
    "            return True\n",
    "        else:\n",
    "            return False\n",
    "\n",
    "custom = Stack()\n",
    "print(custom.isEmpty())\n",
    "\n",
    "# Time & Space Complexity is O(1)"
   ]
  },
  {
   "cell_type": "code",
   "execution_count": 3,
   "metadata": {},
   "outputs": [
    {
     "name": "stdout",
     "output_type": "stream",
     "text": [
      "True\n",
      "3\n",
      "2\n",
      "1\n"
     ]
    }
   ],
   "source": [
    "# 2. push() Method\n",
    "class Stack:\n",
    "    def __init__(self):\n",
    "        self.list = []\n",
    "    \n",
    "    def __str__(self):\n",
    "        values = [str(x) for x in reversed(self.list)]   #List Comprehension\n",
    "        return '\\n'.join(values)\n",
    "    \n",
    "    def isEmpty(self):\n",
    "        if self.list == []:\n",
    "            return True\n",
    "        else:\n",
    "            return False\n",
    "    \n",
    "    def push(self, value):\n",
    "        self.list.append(value)\n",
    "        return \"the alement added\"\n",
    "\n",
    "custom = Stack()\n",
    "print(custom.isEmpty())\n",
    "custom.push(1)\n",
    "custom.push(2)\n",
    "custom.push(3)\n",
    "print(custom.__str__())\n",
    "\n",
    "# Time Complexity is amortized constant O(1) & Space Complexity is O(1)"
   ]
  },
  {
   "cell_type": "code",
   "execution_count": 4,
   "metadata": {},
   "outputs": [
    {
     "name": "stdout",
     "output_type": "stream",
     "text": [
      "True\n",
      "3\n",
      "2\n",
      "1\n",
      "2\n",
      "1\n"
     ]
    }
   ],
   "source": [
    "# 3. pop() Method\n",
    "class Stack:\n",
    "    def __init__(self):\n",
    "        self.list = []\n",
    "    \n",
    "    def __str__(self):\n",
    "        values = [str(x) for x in reversed(self.list)]   #List Comprehension\n",
    "        return '\\n'.join(values)\n",
    "    \n",
    "    def isEmpty(self):\n",
    "        if self.list == []:\n",
    "            return True\n",
    "        else:\n",
    "            return False\n",
    "    \n",
    "    def push(self, value):\n",
    "        self.list.append(value)\n",
    "        return \"the alement added\"\n",
    "    \n",
    "    def pop(self):\n",
    "        if self.isEmpty():\n",
    "            return \"empty stack\"\n",
    "        else:\n",
    "            return self.list.pop()\n",
    "\n",
    "custom = Stack()\n",
    "print(custom.isEmpty())\n",
    "custom.push(1)\n",
    "custom.push(2)\n",
    "custom.push(3)\n",
    "print(custom.__str__())\n",
    "custom.pop()\n",
    "print(custom.__str__())\n",
    "\n",
    "# Time Complexity is amortized constant O(1) & Space Complexity is O(1)"
   ]
  },
  {
   "cell_type": "code",
   "execution_count": 7,
   "metadata": {},
   "outputs": [
    {
     "name": "stdout",
     "output_type": "stream",
     "text": [
      "True\n",
      "3\n",
      "3\n",
      "2\n",
      "1\n"
     ]
    }
   ],
   "source": [
    "# 4. peek() method\n",
    "\n",
    "class Stack:\n",
    "    def __init__(self):\n",
    "        self.list = []\n",
    "    \n",
    "    def __str__(self):\n",
    "        values = [str(x) for x in reversed(self.list)]   #List Comprehension\n",
    "        return '\\n'.join(values)\n",
    "    \n",
    "    def isEmpty(self):\n",
    "        if self.list == []:\n",
    "            return True\n",
    "        else:\n",
    "            return False\n",
    "    \n",
    "    def push(self, value):\n",
    "        self.list.append(value)\n",
    "        return \"the alement added\"\n",
    "    \n",
    "    def pop(self):\n",
    "        if self.isEmpty():\n",
    "            return \"empty stack\"\n",
    "        else:\n",
    "            return self.list.pop()\n",
    "    \n",
    "    def peek(self):\n",
    "        if self.isEmpty():\n",
    "            return \"empty stack\"\n",
    "        else:\n",
    "            return self.list[len(self.list)-1]\n",
    "\n",
    "custom = Stack()\n",
    "print(custom.isEmpty())\n",
    "custom.push(1)\n",
    "custom.push(2)\n",
    "custom.push(3)\n",
    "#print(custom.__str__())\n",
    "print(custom.peek())\n",
    "print(custom)\n",
    "\n",
    "# Time Complexity is amortized constant O(1) & Space Complexity is O(1)"
   ]
  },
  {
   "cell_type": "code",
   "execution_count": 8,
   "metadata": {},
   "outputs": [
    {
     "name": "stdout",
     "output_type": "stream",
     "text": [
      "True\n",
      "3\n",
      "3\n",
      "2\n",
      "1\n"
     ]
    }
   ],
   "source": [
    "# 5. delete() method\n",
    "\n",
    "class Stack:\n",
    "    def __init__(self):\n",
    "        self.list = []\n",
    "    \n",
    "    def __str__(self):\n",
    "        values = [str(x) for x in reversed(self.list)]   #List Comprehension\n",
    "        return '\\n'.join(values)\n",
    "    \n",
    "    def isEmpty(self):\n",
    "        if self.list == []:\n",
    "            return True\n",
    "        else:\n",
    "            return False\n",
    "    \n",
    "    def push(self, value):\n",
    "        self.list.append(value)\n",
    "        return \"the alement added\"\n",
    "    \n",
    "    def pop(self):\n",
    "        if self.isEmpty():\n",
    "            return \"empty stack\"\n",
    "        else:\n",
    "            return self.list.pop()\n",
    "    \n",
    "    def peek(self):\n",
    "        if self.isEmpty():\n",
    "            return \"empty stack\"\n",
    "        else:\n",
    "            return self.list[len(self.list)-1]\n",
    "\n",
    "    def delete(self):\n",
    "        self.list = None\n",
    "\n",
    "custom = Stack()\n",
    "print(custom.isEmpty())\n",
    "custom.push(1)\n",
    "custom.push(2)\n",
    "custom.push(3)\n",
    "#print(custom.__str__())\n",
    "print(custom.peek())\n",
    "print(custom)\n",
    "\n",
    "# Time Complexity is amortized constant O(1) & Space Complexity is O(1)"
   ]
  },
  {
   "cell_type": "code",
   "execution_count": 12,
   "metadata": {},
   "outputs": [
    {
     "name": "stdout",
     "output_type": "stream",
     "text": [
      "True\n",
      "False\n",
      "3\n",
      "2\n",
      "1\n"
     ]
    }
   ],
   "source": [
    "# Creating Stack With Limit Size\n",
    "# 5. delete() method\n",
    "\n",
    "class Stack:\n",
    "    def __init__(self, maxsize):\n",
    "        self.maxsize = maxsize\n",
    "        self.list = []\n",
    "    \n",
    "    def __str__(self):\n",
    "        values = [str(x) for x in reversed(self.list)]   #List Comprehension\n",
    "        return '\\n'.join(values)\n",
    "    \n",
    "    def isEmpty(self):\n",
    "        if self.list == []:\n",
    "            return True\n",
    "        else:\n",
    "            return False\n",
    "    \n",
    "    ## isFull() Method\n",
    "    def isFull(self):\n",
    "        if len(self.list)==self.maxsize:\n",
    "            return True\n",
    "        else:\n",
    "            return False\n",
    "        \n",
    "    # Time Complexity is O(1) & Space Complexity is O(1)\n",
    "\n",
    "    def push(self, value):\n",
    "        if self.isFull():\n",
    "            return \"tje stack is full\"\n",
    "        else:\n",
    "            self.list.append(value)\n",
    "            return \"the alement added\"\n",
    "    \n",
    "    # Time Complexity is amortized constant O(1) & Space Complexity is O(1)\n",
    "    \n",
    "    def pop(self):\n",
    "        if self.isEmpty():\n",
    "            return \"empty stack\"\n",
    "        else:\n",
    "            return self.list.pop()\n",
    "    \n",
    "    def peek(self):\n",
    "        if self.isEmpty():\n",
    "            return \"empty stack\"\n",
    "        else:\n",
    "            return self.list[len(self.list)-1]\n",
    "\n",
    "    def delete(self):\n",
    "        self.list = None\n",
    "\n",
    "custom = Stack(4)\n",
    "print(custom.isEmpty())\n",
    "print(custom.isFull())\n",
    "custom.push(1)\n",
    "custom.push(2)\n",
    "custom.push(3)\n",
    "#print(custom.__str__())\n",
    "print(custom.pop())\n",
    "print(custom)\n"
   ]
  },
  {
   "cell_type": "markdown",
   "metadata": {},
   "source": [
    "CREATE STACK USING LINKED LIST"
   ]
  },
  {
   "cell_type": "code",
   "execution_count": null,
   "metadata": {},
   "outputs": [
    {
     "name": "stdout",
     "output_type": "stream",
     "text": [
      "True\n",
      "40\n",
      "30\n",
      "20\n",
      "10\n",
      "$$$$$$$$$$$$$$\n",
      "40\n",
      "40\n"
     ]
    }
   ],
   "source": [
    "# Creating\n",
    "class Node:\n",
    "    def __init__(self, value = None):\n",
    "        self.value = value\n",
    "        self.next = None\n",
    "    \n",
    "    def __str__(self):\n",
    "        return str(self.value)\n",
    "\n",
    "class LinkedList:                   \n",
    "    def __init__(self):\n",
    "        self.head = None\n",
    "\n",
    "    def __iter__(self):\n",
    "        curnode = self.head\n",
    "        while curnode:\n",
    "            yield curnode\n",
    "            curnode = curnode.next\n",
    "\n",
    "class Stack:\n",
    "    def __init__(self):\n",
    "        self.LinkedList = LinkedList()\n",
    "    \n",
    "    def __str__(self):\n",
    "        values = [str(x) for x in self.LinkedList]   #List Comprehension\n",
    "        return '\\n'.join(values)\n",
    "    \n",
    "    def isEmpty(self):\n",
    "        if self.LinkedList.head==None:\n",
    "            return True\n",
    "        else:\n",
    "            return False\n",
    "    \n",
    "    # push() method\n",
    "    def push(self, value):\n",
    "        node = Node(value)\n",
    "        node.next = self.LinkedList.head\n",
    "        self.LinkedList.head = node\n",
    "    \n",
    "    # pop() method\n",
    "    def pop(self):\n",
    "        if self.isEmpty():\n",
    "            return \"empty stack\"\n",
    "        else:\n",
    "            nodeValue = self.LinkedList.head.value\n",
    "            self.LinkedList.head = self.LinkedList.head.next\n",
    "            return nodeValue  \n",
    "    \n",
    "    # peek() method\n",
    "    def peek(self):\n",
    "        if self.isEmpty():\n",
    "            return \"empty stack\"\n",
    "        else:\n",
    "            nodeValue = self.LinkedList.head.value\n",
    "            return nodeValue  \n",
    "    \n",
    "    # delete() method\n",
    "    def delete(self):\n",
    "        self.LinkedList.head = None\n",
    "        \n",
    "custom = Stack()\n",
    "print(custom.isEmpty())\n",
    "custom.push(10)\n",
    "custom.push(20)\n",
    "custom.push(30)\n",
    "custom.push(40)\n",
    "print(custom.__str__())\n",
    "print(\"$$$$$$$$$$$$$$\")\n",
    "print(custom.peek())\n",
    "print(custom.pop())"
   ]
  },
  {
   "cell_type": "code",
   "execution_count": null,
   "metadata": {},
   "outputs": [],
   "source": []
  }
 ],
 "metadata": {
  "kernelspec": {
   "display_name": "venv",
   "language": "python",
   "name": "python3"
  },
  "language_info": {
   "codemirror_mode": {
    "name": "ipython",
    "version": 3
   },
   "file_extension": ".py",
   "mimetype": "text/x-python",
   "name": "python",
   "nbconvert_exporter": "python",
   "pygments_lexer": "ipython3",
   "version": "3.11.0"
  }
 },
 "nbformat": 4,
 "nbformat_minor": 2
}
