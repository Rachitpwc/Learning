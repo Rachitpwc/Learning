{
 "cells": [
  {
   "cell_type": "markdown",
   "metadata": {},
   "source": [
    "LINEAR SEARCH"
   ]
  },
  {
   "cell_type": "code",
   "execution_count": 3,
   "metadata": {},
   "outputs": [
    {
     "name": "stdout",
     "output_type": "stream",
     "text": [
      "-1\n"
     ]
    }
   ],
   "source": [
    "def LinearSearch(array, value):\n",
    "    for i in range(len(array)):\n",
    "        if array[i]==value:\n",
    "            return i\n",
    "    return -1\n",
    "\n",
    "# Time complexity is O(1) & Space complexity is O(1).\n",
    "\n",
    "print(LinearSearch([20,30,40,50,10,50,80], 70))"
   ]
  },
  {
   "cell_type": "markdown",
   "metadata": {},
   "source": [
    "BINARY SEARCH\n",
    "\n",
    "Faster than Linear Search\n",
    "\n",
    "Used in Sorted Arrays"
   ]
  },
  {
   "cell_type": "code",
   "execution_count": 9,
   "metadata": {},
   "outputs": [
    {
     "name": "stdout",
     "output_type": "stream",
     "text": [
      "0 4 8\n"
     ]
    },
    {
     "data": {
      "text/plain": [
       "4"
      ]
     },
     "execution_count": 9,
     "metadata": {},
     "output_type": "execute_result"
    }
   ],
   "source": [
    "import math\n",
    "def binarySearch(array, value):\n",
    "    start = 0\n",
    "    end = len(array)-1\n",
    "    middle = math.floor((start+end)/2)\n",
    "    print(start, middle, end)\n",
    "\n",
    "    while not(array[middle]==value) and start<=end:\n",
    "        if value < array[middle]:\n",
    "            end = middle - 1\n",
    "        else:\n",
    "            start = middle + 1\n",
    "        middle = math.floor((start+end)/2)\n",
    "        print(start, middle, end)\n",
    "    if array[middle]==value:\n",
    "        return middle    \n",
    "    else:\n",
    "        return -1\n",
    "\n",
    "# Time complexity is O(logN) in worst case & Space complexity is O(1).\n",
    "# Binary Search algorithm is best of all search methods as the time complexity is almost near to O(1) which is O(logN)\n",
    "    \n",
    "cust = [8,9,12,15,17,19,21,20,29]\n",
    "binarySearch(cust,17)"
   ]
  },
  {
   "cell_type": "code",
   "execution_count": null,
   "metadata": {},
   "outputs": [],
   "source": []
  }
 ],
 "metadata": {
  "kernelspec": {
   "display_name": "venv",
   "language": "python",
   "name": "python3"
  },
  "language_info": {
   "codemirror_mode": {
    "name": "ipython",
    "version": 3
   },
   "file_extension": ".py",
   "mimetype": "text/x-python",
   "name": "python",
   "nbconvert_exporter": "python",
   "pygments_lexer": "ipython3",
   "version": "3.11.0"
  }
 },
 "nbformat": 4,
 "nbformat_minor": 2
}
